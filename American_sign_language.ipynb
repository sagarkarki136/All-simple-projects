{
 "cells": [
  {
   "cell_type": "code",
   "execution_count": 0,
   "metadata": {
    "colab": {},
    "colab_type": "code",
    "id": "oXtUvG5-2Kz9"
   },
   "outputs": [],
   "source": [
    "from google.colab import drive\n",
    "drive.mount('/content/drive')"
   ]
  },
  {
   "cell_type": "code",
   "execution_count": 0,
   "metadata": {
    "colab": {},
    "colab_type": "code",
    "id": "CAxK03DjQgZ7"
   },
   "outputs": [],
   "source": [
    "import zipfile\n",
    "with zipfile.ZipFile('/content/drive/My Drive/all/ASL/asl-alphabet-test.zip', 'r') as zip_ref:\n",
    "    zip_ref.extractall('/content/asl_test')     #extract data"
   ]
  },
  {
   "cell_type": "code",
   "execution_count": 0,
   "metadata": {
    "colab": {
     "base_uri": "https://localhost:8080/",
     "height": 34
    },
    "colab_type": "code",
    "id": "vgYLF1SM64A5",
    "outputId": "7187ee6d-b7f7-44d9-a099-be5513cb0e2a"
   },
   "outputs": [
    {
     "data": {
      "text/plain": [
       "3000"
      ]
     },
     "execution_count": 7,
     "metadata": {
      "tags": []
     },
     "output_type": "execute_result"
    }
   ],
   "source": [
    "import os \n",
    "i=os.listdir('/content/drive/My Drive/all/ASL/asl_alphabet_train/A')\n",
    "len(i)                        #number of imgages per class"
   ]
  },
  {
   "cell_type": "code",
   "execution_count": 0,
   "metadata": {
    "colab": {
     "base_uri": "https://localhost:8080/",
     "height": 34
    },
    "colab_type": "code",
    "id": "OW0OgUZ3UzEK",
    "outputId": "1f12d452-b711-45ac-be07-d1d30c12da97"
   },
   "outputs": [
    {
     "data": {
      "text/plain": [
       "'/content/kk/asl-alphabet-test'"
      ]
     },
     "execution_count": 5,
     "metadata": {
      "tags": []
     },
     "output_type": "execute_result"
    }
   ],
   "source": [
    "import shutil\n",
    "shutil.move('/content/asl_test/Y/asl-alphabet-test','/content/kk')"
   ]
  },
  {
   "cell_type": "code",
   "execution_count": 0,
   "metadata": {
    "colab": {},
    "colab_type": "code",
    "id": "RM9lVqen-VOb"
   },
   "outputs": [],
   "source": [
    "\n",
    "try :\n",
    " %tensorflow_version 2.x\n",
    "except Exception:\n",
    "  pass\n",
    "\n",
    "import tensorflow as tf"
   ]
  },
  {
   "cell_type": "code",
   "execution_count": 0,
   "metadata": {
    "colab": {},
    "colab_type": "code",
    "id": "2wiqBYPXk8Mb"
   },
   "outputs": [],
   "source": [
    "#get the imports necessary\n",
    "from __future__ import print_function, division\n",
    "%matplotlib inline\n",
    "%config InlineBackend.figure_format = 'retina'\n",
    "\n",
    "import matplotlib.pyplot as plt\n",
    "\n",
    "import torch\n",
    "from torch.utils import data\n",
    "from torch import nn\n",
    "from torch import optim\n",
    "import torch.nn.functional as F\n",
    "from torch.utils.data import Dataset , DataLoader\n",
    "from torchvision import datasets, transforms, models,utils\n",
    "from PIL import Image\n",
    "from torch.utils.tensorboard import SummaryWriter\n",
    "writer = SummaryWriter('/content/drive/My Drive/all/ASL_MODELS/ASL_ENB2/graphs_2')\n",
    "import os\n",
    "import pandas as pd\n",
    "from skimage import io, transform\n",
    "import numpy as np\n",
    "import shutil\n",
    "import matplotlib.pyplot as plt\n",
    "from sklearn import metrics\n",
    "from sklearn.model_selection import train_test_split"
   ]
  },
  {
   "cell_type": "code",
   "execution_count": 0,
   "metadata": {
    "colab": {},
    "colab_type": "code",
    "id": "BhXvdpkCjGOp"
   },
   "outputs": [],
   "source": [
    "#Custom data generator in case you want to use sign eminist dataset to train the model or else it is nt required\n",
    "class Dataset(data.Dataset):\n",
    "\n",
    "  def __init__(self, df, transform = None):\n",
    "     \n",
    "        self.landmarks_frame = df\n",
    "        \n",
    "        self.transform= transform\n",
    "  def __len__(self):\n",
    "        'Denotes the total number of samples'\n",
    "        return len(self.landmarks_frame)\n",
    "\n",
    "  def __getitem__(self, idx):\n",
    "      \n",
    "    \n",
    "        if torch.is_tensor(idx):\n",
    "            idx = idx.tolist()\n",
    "      \n",
    "        val=self.landmarks_frame.iloc[idx,1:].values\n",
    "        \n",
    "        img = Image.fromarray(np.uint8(val) , 'L')\n",
    "        print(val.shape)\n",
    "        \n",
    "        if self.transform:\n",
    "\n",
    "          X = self.transform(img)\n",
    "          \n",
    "        print(X.shape)\n",
    "        label_n = self.landmarks_frame.iloc[idx,0]\n",
    "      \n",
    "\n",
    "        return X,label_n"
   ]
  },
  {
   "cell_type": "code",
   "execution_count": 0,
   "metadata": {
    "colab": {},
    "colab_type": "code",
    "id": "HQlv-OT2pFvw"
   },
   "outputs": [],
   "source": [
    "\n",
    "#use this snippet if you are tru=ying Sign mnist dataset\n",
    "try_transform = transforms.Compose([transforms.Resize((260,260)),\n",
    "                                transforms.ToTensor()])\n",
    "\n",
    "train_dataset =  Dataset(train_df, try_transform)\n",
    "test_dataset =  Dataset(val_df,try_transform)\n",
    "trainloader = torch.utils.data.DataLoader(train_dataset, batch_size=64, shuffle=True,num_workers=60)\n",
    "testloader = torch.utils.data.DataLoader(test_dataset, batch_size=64,num_workers=60)"
   ]
  },
  {
   "cell_type": "code",
   "execution_count": 0,
   "metadata": {
    "colab": {},
    "colab_type": "code",
    "id": "uxg_9zGkZfNF"
   },
   "outputs": [],
   "source": []
  },
  {
   "cell_type": "code",
   "execution_count": 0,
   "metadata": {
    "colab": {},
    "colab_type": "code",
    "id": "rrJ-_vdII4sf"
   },
   "outputs": [],
   "source": [
    "#for normal ASL data use this snippet\n",
    "try_transform = transforms.Compose([transforms.Resize((260,260)),\n",
    "                                transforms.ToTensor()])\n",
    "train_data = datasets.ImageFolder('/content/kk',  \n",
    "                                    transform=try_transform) \n",
    "test_data = datasets.ImageFolder('/content/asl_test',  \n",
    "                                     transform=try_transform) \n",
    "trainloader = torch.utils.data.DataLoader(train_data, batch_size=64, shuffle=True,num_workers=50)\n",
    "testloader = torch.utils.data.DataLoader(test_data, batch_size=64,num_workers=50)"
   ]
  },
  {
   "cell_type": "code",
   "execution_count": 0,
   "metadata": {
    "colab": {
     "base_uri": "https://localhost:8080/",
     "height": 34
    },
    "colab_type": "code",
    "id": "3HlVcgXGk8M3",
    "outputId": "cfb63776-f753-4501-b2d5-453d578fb72d"
   },
   "outputs": [
    {
     "name": "stderr",
     "output_type": "stream",
     "text": [
      "Using cache found in /root/.cache/torch/hub/rwightman_gen-efficientnet-pytorch_master\n"
     ]
    }
   ],
   "source": [
    "model = torch.hub.load('rwightman/gen-efficientnet-pytorch', 'efficientnet_b2', pretrained=True)"
   ]
  },
  {
   "cell_type": "code",
   "execution_count": 0,
   "metadata": {
    "colab": {},
    "colab_type": "code",
    "id": "Mt_K5rA2k8NH"
   },
   "outputs": [],
   "source": [
    "## freezing model \n",
    "for param in model.parameters():\n",
    "    param.requires_grad = False\n",
    "    \n",
    "    \n",
    "# change last layer of model\n",
    "model.classifier = nn.Sequential(nn.Linear(1408, 704),\n",
    "                         nn.ReLU(),\n",
    "                         nn.Dropout(0.2),\n",
    "                         nn.Linear(704, 128),\n",
    "                         nn.ReLU(),\n",
    "                      \n",
    "                         nn.Linear(128, 29)\n",
    "                        )"
   ]
  },
  {
   "cell_type": "code",
   "execution_count": 0,
   "metadata": {
    "colab": {},
    "colab_type": "code",
    "id": "Pxkk3t7Tvbyf"
   },
   "outputs": [],
   "source": [
    "model      #view model architechture"
   ]
  },
  {
   "cell_type": "code",
   "execution_count": 0,
   "metadata": {
    "colab": {},
    "colab_type": "code",
    "id": "gAIEwPHPk8NT"
   },
   "outputs": [],
   "source": [
    "def save_ckp(state, is_best, checkpoint_path, best_model_path):\n",
    "    \"\"\"\n",
    "    state: checkpoint we want to save\n",
    "    is_best: is this the best checkpoint; min validation loss\n",
    "    checkpoint_path: path to save checkpoint\n",
    "    best_model_path: path to save best model\n",
    "    \"\"\"\n",
    "    f_path = checkpoint_path\n",
    "    # save checkpoint data to the path given, checkpoint_path\n",
    "    torch.save(state, f_path)\n",
    "    # if it is a best model, min validation loss\n",
    "    if is_best:\n",
    "        best_fpath = best_model_path\n",
    "        # copy that checkpoint file to best path given, best_model_path\n",
    "        shutil.copyfile(f_path, best_fpath)\n"
   ]
  },
  {
   "cell_type": "code",
   "execution_count": 0,
   "metadata": {
    "colab": {},
    "colab_type": "code",
    "id": "5Y_DQURSk8NY"
   },
   "outputs": [],
   "source": [
    "def load_ckp(checkpoint_fpath, model, optimizer):\n",
    "    \"\"\"\n",
    "    checkpoint_path: path to save checkpoint\n",
    "    model: model that we want to load checkpoint parameters into       \n",
    "    optimizer: optimizer we defined in previous training\n",
    "    \"\"\"\n",
    "    # load check point\n",
    "    checkpoint = torch.load(checkpoint_fpath)\n",
    "    # initialize state_dict from checkpoint to model\n",
    "    model.load_state_dict(checkpoint['state_dict'])\n",
    "    # initialize optimizer from checkpoint to optimizer\n",
    "    optimizer.load_state_dict(checkpoint['optimizer'])\n",
    "    # initialize valid_loss_min from checkpoint to valid_loss_min\n",
    "    #valid_loss_min = checkpoint['valid_loss_min']\n",
    "    # return model, optimizer, epoch value, min validation loss \n",
    "    print(checkpoint['epoch'])\n",
    "    return model, optimizer,checkpoint['epoch']\n"
   ]
  },
  {
   "cell_type": "code",
   "execution_count": 0,
   "metadata": {
    "colab": {},
    "colab_type": "code",
    "id": "CgD5BfDVk8Nb"
   },
   "outputs": [],
   "source": [
    "def compute_accuracy(true_labels, predictions):\n",
    "    return (true_labels == torch.argmax(predictions,axis=1)).type(torch.FloatTensor).mean()"
   ]
  },
  {
   "cell_type": "code",
   "execution_count": 0,
   "metadata": {
    "colab": {},
    "colab_type": "code",
    "id": "3k7qM6XOk8Nf"
   },
   "outputs": [],
   "source": [
    "## model training\n",
    "def train_one_epoch(model, criterion, optimizer, train_loader, device):\n",
    "    \n",
    "    epoch_loss = 0\n",
    "    acc = 0\n",
    "    # put model in train mode\n",
    "    model.train()\n",
    "    print(\"training...n\")\n",
    "    for train_x, train_y in train_loader:\n",
    "        # move data to device\n",
    "        train_x = train_x.to(device)\n",
    "        train_y = train_y.to(device)\n",
    "        \n",
    "        print(train_x.shape)\n",
    "        optimizer.zero_grad()\n",
    "        u_logits = model(train_x)\n",
    "        current_loss = criterion(u_logits, train_y)\n",
    "        epoch_loss += current_loss.item()\n",
    "        #print(len(train_y.cpu()))\n",
    "        acc += compute_accuracy(train_y.cpu(), F.softmax(u_logits.cpu(),dim=1))\n",
    "        current_loss.backward()\n",
    "        optimizer.step()\n",
    "        \n",
    "    return epoch_loss/ len(train_loader), acc/ len(train_loader)"
   ]
  },
  {
   "cell_type": "code",
   "execution_count": 0,
   "metadata": {
    "colab": {},
    "colab_type": "code",
    "id": "6zTOuozWk8Nj"
   },
   "outputs": [],
   "source": [
    "def eval_one_epoch(model, criterion, val_loader, device):\n",
    "    epoch_loss = 0\n",
    "    acc = 0\n",
    "    # put model in eval mode\n",
    "    model.eval()\n",
    "    preds,actual=list(),list()\n",
    "    with torch.no_grad():\n",
    "        for val_x, val_y in val_loader:\n",
    "            # move data to device\n",
    "            val_x = val_x.to(device)\n",
    "            val_y = val_y.to(device)\n",
    "            u_logits = model(val_x)\n",
    "            current_loss = criterion(u_logits, val_y)\n",
    "            epoch_loss += current_loss.item()\n",
    "            for i in torch.argmax(F.softmax(u_logits.cpu(),dim=1),axis=1):\n",
    "              preds.append(i)\n",
    "            for i in val_y.cpu():\n",
    "              actual.append(i)\n",
    "            acc += compute_accuracy(val_y.cpu(), F.softmax(u_logits.cpu(),dim=1))\n",
    "    print(metrics.classification_report(actual,preds))\n",
    "    return epoch_loss/ len(val_loader), acc/ len(val_loader)"
   ]
  },
  {
   "cell_type": "code",
   "execution_count": 0,
   "metadata": {
    "colab": {},
    "colab_type": "code",
    "id": "rqrzF3qDpFxN"
   },
   "outputs": [],
   "source": [
    "def train(model, train_loader, val_loader, num_epochs, device, print_every=5):\n",
    "    model = model.to(device)\n",
    "    \n",
    "    criterion = nn.CrossEntropyLoss()\n",
    "    LR = 1e-3\n",
    "    # adam_optim = optim.Adam(model.classifier.parameters(), lr= LR)   #if you are using this code for the first time then uncomment this line and comment next two line and if you want to continue training form checkpoint then comment this line and use the next two\n",
    "    checkpoint_fpath ='/content/drive/My Drive/all/ASL_MODELS/ASL_ENB2/checkpt_from_asl_1.pt'\n",
    "    model,adam_optim,epoch=load_ckp(checkpoint_fpath, model, optim.Adam(model.classifier.parameters(), lr= LR))\n",
    "   \n",
    "    scheduler = torch.optim.lr_scheduler.StepLR(adam_optim, step_size=25, gamma=0.5)\n",
    "    train_loss_hist = []\n",
    "    val_loss_hist = []\n",
    "    train_acc_hist = []\n",
    "    val_acc_hist = []\n",
    "    valid_loss_min = 6\n",
    "    for epoch_index in range(num_epochs+1):\n",
    "        train_loss, train_acc = train_one_epoch(model, criterion, adam_optim, train_loader, device)                                        \n",
    "        # add train loss and acc to hist\n",
    "        train_loss_hist.append(train_loss)\n",
    "        train_acc_hist.append(train_acc)\n",
    "        writer.add_scalar('train/loss',train_loss,epoch_index)\n",
    "        writer.add_scalar('train/acc',train_acc,epoch_index)\n",
    "        checkpoint = {\n",
    "            'epoch': epoch_index + 1,\n",
    "            'loss': train_loss,\n",
    "            'acc':train_acc,\n",
    "            'state_dict': model.state_dict(),\n",
    "            'optimizer': adam_optim.state_dict(),\n",
    "              }\n",
    "        \n",
    "        print(f\"epoch: {epoch_index}, train loss:{train_loss}, train_acc: {train_acc}\")  \n",
    "        \n",
    "        save_ckp(checkpoint, False, '/content/drive/My Drive/all/ASL_MODELS/ASL_ENB2/checkpt.pt', '/content/drive/My Drive/all/ASL_MODELS/ASL_ENB2/best_mod.pt')\n",
    "        \n",
    "        if ((epoch_index % print_every) == 0):\n",
    "            val_loss, val_acc = eval_one_epoch(model, criterion, val_loader, device)\n",
    "            print(f\"epoch: {epoch_index}, val_loss: {val_loss}, val_acc: {val_acc}\")                                        \n",
    "            # add val loss and acc to hist\n",
    "            val_loss_hist.append(val_loss)\n",
    "            val_acc_hist.append(val_acc)\n",
    "            writer.add_scalar('val/loss',val_loss,epoch_index)\n",
    "            writer.add_scalar('val/acc',val_acc,epoch_index)\n",
    "            checkpoint = {\n",
    "            'epoch': epoch_index + 1,\n",
    "            'valid_loss_min': val_loss,\n",
    "            'state_dict': model.state_dict(),\n",
    "            'optimizer': adam_optim.state_dict(),\n",
    "              }\n",
    "\n",
    "            if val_loss <= valid_loss_min:\n",
    "              print('Validation loss decreased ({:.6f} --> {:.6f}).  Saving model ...'.format(valid_loss_min,val_loss))\n",
    "              # save checkpoint as best model\n",
    "              save_ckp(checkpoint, True, '/content/drive/My Drive/all/ASL_MODELS/ASL_ENB2/checkpt.pt', '/content/drive/My Drive/all/ASL_MODELS/ASL_ENB2/best_mod/best_mod.pt')\n",
    "              valid_loss_min = val_loss\n",
    "            #### model saving code here \n",
    "        scheduler.step()              \n",
    "    return train_loss_hist, train_acc_hist, val_loss_hist, val_acc_hist"
   ]
  },
  {
   "cell_type": "code",
   "execution_count": 0,
   "metadata": {
    "colab": {},
    "colab_type": "code",
    "id": "B3fG_9CGk8Nq"
   },
   "outputs": [],
   "source": [
    "device = torch.device(\"cuda:0\" if torch.cuda.is_available() else \"cpu\")\n",
    "print(\"training started on {}\".format(device))\n",
    "NUM_EPOCHS = 60\n",
    "train_loss_hist, train_acc_hist, val_loss_hist, val_acc_hist = train(model, trainloader, testloader, NUM_EPOCHS, device)"
   ]
  },
  {
   "cell_type": "code",
   "execution_count": 0,
   "metadata": {
    "colab": {},
    "colab_type": "code",
    "id": "33KLsvGvXrZk"
   },
   "outputs": [],
   "source": [
    "from PIL import Image\n",
    "import numpy as np"
   ]
  },
  {
   "cell_type": "code",
   "execution_count": 0,
   "metadata": {
    "colab": {},
    "colab_type": "code",
    "id": "0ZylRHnCJh8y"
   },
   "outputs": [],
   "source": [
    "image = Image.open('/content/drive/My Drive/all/ASL/asl_alphabet_test/A/A_test.jpg')"
   ]
  },
  {
   "cell_type": "code",
   "execution_count": 0,
   "metadata": {
    "colab": {
     "base_uri": "https://localhost:8080/",
     "height": 217
    },
    "colab_type": "code",
    "id": "NvvACtg2KCeV",
    "outputId": "7f586470-8b83-4c45-ce81-febcee56028b"
   },
   "outputs": [
    {
     "data": {
      "image/png": "[encoded data removed]",
      "text/plain": [
       "<PIL.JpegImagePlugin.JpegImageFile image mode=RGB size=200x200 at 0x7FA4F62225F8>"
      ]
     },
     "metadata": {
      "tags": []
     },
     "output_type": "display_data"
    }
   ],
   "source": [
    "display(image)"
   ]
  }
 ],
 "metadata": {
  "colab": {
   "collapsed_sections": [],
   "name": "ASL_trial.ipynb",
   "provenance": []
  },
  "kernelspec": {
   "display_name": "Python 3",
   "name": "python3"
  }
 },
 "nbformat": 4,
 "nbformat_minor": 1
}
