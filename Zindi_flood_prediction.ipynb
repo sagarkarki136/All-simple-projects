{
 "cells": [
  {
   "cell_type": "code",
   "execution_count": 1,
   "metadata": {},
   "outputs": [],
   "source": [
    "import pandas as pd\n",
    "from sklearn.model_selection import train_test_split\n",
    "from sklearn.ensemble import RandomForestRegressor\n",
    "from sklearn.ensemble import AdaBoostRegressor\n",
    "from sklearn.ensemble import GradientBoostingRegressor\n",
    "from sklearn.ensemble import BaggingRegressor\n",
    "import xgboost as xg\n",
    "from sklearn.svm import SVR\n",
    "import numpy as np\n",
    "import sklearn\n",
    "import tensorflow as tf\n",
    "from sklearn.model_selection import KFold               "
   ]
  },
  {
   "cell_type": "code",
   "execution_count": 72,
   "metadata": {
    "scrolled": true
   },
   "outputs": [],
   "source": [
    "data=pd.read_csv(r\"/home/sagar/Downloads/Train.csv\")"
   ]
  },
  {
   "cell_type": "code",
   "execution_count": 66,
   "metadata": {},
   "outputs": [],
   "source": [
    "submission=pd.read_csv(r\"/home/sagar/Downloads/submissionZindi.csv\")"
   ]
  },
  {
   "cell_type": "code",
   "execution_count": null,
   "metadata": {},
   "outputs": [],
   "source": [
    "submission['target_2019'] = model2.predict(x_test)"
   ]
  },
  {
   "cell_type": "code",
   "execution_count": 68,
   "metadata": {},
   "outputs": [],
   "source": [
    "submission.to_csv(r\"/home/sagar/Downloads/meta_xgb.csv\",index=False)\n"
   ]
  },
  {
   "cell_type": "code",
   "execution_count": 73,
   "metadata": {},
   "outputs": [],
   "source": [
    "precip_features_2019 = []\n",
    "precip_features_2015 = []\n",
    "for col in data.columns:\n",
    "  if '2019' in col:\n",
    "    precip_features_2019.append(col)\n",
    "  elif 'precip 2014' in col:\n",
    "    precip_features_2015.append(col)\n",
    "  elif 'precip 2015' in col:\n",
    "    precip_features_2015.append(col)"
   ]
  },
  {
   "cell_type": "code",
   "execution_count": 39,
   "metadata": {},
   "outputs": [],
   "source": [
    "train = data[data.columns.difference(precip_features_2019)]\n",
    "x_train=train.drop(['target_2015','Square_ID'],axis=1)\n",
    "y_train=train['target_2015']"
   ]
  },
  {
   "cell_type": "code",
   "execution_count": 74,
   "metadata": {},
   "outputs": [],
   "source": [
    "precip_features_2019.extend(['X','Y','elevation', 'LC_Type1_mode','Square_ID'])\n",
    "test = data[precip_features_2019]\n",
    "x_test=test.drop(\"Square_ID\",axis=1)\n"
   ]
  },
  {
   "cell_type": "code",
   "execution_count": 75,
   "metadata": {},
   "outputs": [],
   "source": [
    "new_2015_cols = {}\n",
    "for col, number in zip(precip_features_2015, range(1, len(precip_features_2015) + 1)):\n",
    "  if 'precip' in col:\n",
    "    new_2015_cols[col] = 'week_' + str(number) + '_precip'\n",
    "\n",
    "    \n",
    "# Creating a dictionary of column names to be renamed for the testing dataset\n",
    "#\n",
    "new_2019_cols = {}\n",
    "for col, number in zip(precip_features_2019, range(1, len(precip_features_2019) + 1)):\n",
    "  if 'precip' in col:\n",
    "    new_2019_cols[col] = 'week_' + str(number) + '_precip'\n",
    "    \n",
    "# Renaming the columns\n",
    "#\n",
    "train.rename(columns = new_2015_cols, inplace = True)\n",
    "test.rename(columns = new_2019_cols, inplace = True)                      "
   ]
  },
  {
   "cell_type": "code",
   "execution_count": 76,
   "metadata": {},
   "outputs": [],
   "source": [
    "x_train=train.drop(['target_2015','Square_ID'],axis=1)\n",
    "y_train=train['target_2015']\n",
    "x_test=test.drop(\"Square_ID\",axis=1)"
   ]
  },
  {
   "cell_type": "code",
   "execution_count": 77,
   "metadata": {},
   "outputs": [
    {
     "data": {
      "text/plain": [
       "(16466, 21)"
      ]
     },
     "execution_count": 77,
     "metadata": {},
     "output_type": "execute_result"
    }
   ],
   "source": [
    "x_test.shape"
   ]
  },
  {
   "cell_type": "code",
   "execution_count": 59,
   "metadata": {},
   "outputs": [
    {
     "data": {
      "text/plain": [
       "SVR(C=1.0, cache_size=200, coef0=0.0, degree=3, epsilon=0.1,\n",
       "  gamma='auto_deprecated', kernel='rbf', max_iter=-1, shrinking=True,\n",
       "  tol=0.001, verbose=False)"
      ]
     },
     "execution_count": 59,
     "metadata": {},
     "output_type": "execute_result"
    }
   ],
   "source": [
    "model1=RandomForestRegressor(n_estimators=100)\n",
    "model1.fit(x_train,y_train)\n",
    "\n",
    "model2=xg.XGBRegressor(n_estimators=900)\n",
    "model2.fit(x_train,y_train)\n",
    "\n",
    "\n",
    "model3=AdaBoostRegressor()\n",
    "model3.fit(x_train,y_train)\n",
    "\n",
    "model4=GradientBoostingRegressor()\n",
    "model4.fit(x_train,y_train)\n",
    "\n",
    "model5=BaggingRegressor()\n",
    "model5.fit(x_train,y_train)\n",
    "\n",
    "model6=SVR()\n",
    "model6.fit(x_train,y_train)\n"
   ]
  },
  {
   "cell_type": "code",
   "execution_count": 60,
   "metadata": {},
   "outputs": [
    {
     "name": "stdout",
     "output_type": "stream",
     "text": [
      "1\n",
      "2\n",
      "3\n",
      "4\n",
      "5\n"
     ]
    }
   ],
   "source": [
    "data_x=pd.DataFrame()\n",
    "x=0\n",
    "rftl,bagl,adal,data_y,svrl=list(),list(),list(),list(),list()\n",
    "kfold= KFold(n_splits=5,shuffle=True)\n",
    "for train_ix,test_ix in kfold.split(x_train):\n",
    "    X_train,X_test=x_train.iloc[train_ix,:],x_train.iloc[test_ix,:]\n",
    "    Y_train,Y_test=y_train.iloc[train_ix],y_train.iloc[test_ix]\n",
    "    data_y.extend(Y_test)\n",
    "    data_x=data_x.append(X_test)\n",
    "\n",
    "    rft=RandomForestRegressor(n_estimators=100)\n",
    "    rft.fit(X_train,Y_train)\n",
    "    rftl.extend(rft.predict(X_test))\n",
    "    \n",
    "    ada=AdaBoostRegressor()\n",
    "    ada.fit(x_train,y_train)\n",
    "    adal.extend(ada.predict(X_test))\n",
    "\n",
    "   \n",
    "    bag=BaggingRegressor()\n",
    "    bag.fit(X_train,Y_train)\n",
    "    bagl.extend(bag.predict(X_test))\n",
    "    \n",
    "    svr=SVR()\n",
    "    svr.fit(X_train,Y_train)\n",
    "    svrl.extend(svr.predict(X_test))\n",
    "    \n",
    "    x=x+1\n",
    "    print(x)"
   ]
  },
  {
   "cell_type": "code",
   "execution_count": 11,
   "metadata": {},
   "outputs": [
    {
     "name": "stdout",
     "output_type": "stream",
     "text": [
      "16466\n",
      "(16466, 21)\n"
     ]
    }
   ],
   "source": [
    "#add the data from base learner to the input\n",
    "print(len(data_y))\n",
    "print(data_x.shape)"
   ]
  },
  {
   "cell_type": "code",
   "execution_count": 61,
   "metadata": {},
   "outputs": [],
   "source": [
    "meta_data= data_x\n",
    "meta_data.insert(21,'rft',rftl)\n",
    "meta_data.insert(22,'ada',adal)\n",
    "meta_data.insert(23,'svr',svrl)\n",
    "meta_data.insert(24,'bag',bagl)\n"
   ]
  },
  {
   "cell_type": "code",
   "execution_count": 62,
   "metadata": {},
   "outputs": [
    {
     "data": {
      "text/plain": [
       "XGBRegressor(base_score=0.5, booster='gbtree', colsample_bylevel=1,\n",
       "       colsample_bytree=1, gamma=0, importance_type='gain',\n",
       "       learning_rate=0.1, max_delta_step=0, max_depth=3,\n",
       "       min_child_weight=1, missing=None, n_estimators=900, n_jobs=1,\n",
       "       nthread=None, objective='reg:linear', random_state=0, reg_alpha=0,\n",
       "       reg_lambda=1, scale_pos_weight=1, seed=None, silent=True,\n",
       "       subsample=1)"
      ]
     },
     "execution_count": 62,
     "metadata": {},
     "output_type": "execute_result"
    }
   ],
   "source": [
    "meta_model=xg.XGBRegressor(n_estimators=900)\n",
    "meta_model.fit(meta_data,y_train)\n"
   ]
  },
  {
   "cell_type": "code",
   "execution_count": 70,
   "metadata": {},
   "outputs": [
    {
     "data": {
      "text/plain": [
       "['meta_xgb_r_a_b_s']"
      ]
     },
     "execution_count": 70,
     "metadata": {},
     "output_type": "execute_result"
    }
   ],
   "source": [
    "import joblib\n",
    "filename='meta_xgb_r_a_b_s'\n",
    "joblib.dump(meta_model,filename)"
   ]
  },
  {
   "cell_type": "code",
   "execution_count": 63,
   "metadata": {},
   "outputs": [],
   "source": [
    "sub_1=model1.predict(x_test)\n",
    "sub_3=model3.predict(x_test)\n",
    "sub_5=model5.predict(x_test)\n",
    "sub_6=model6.predict(x_test)\n",
    "meta_data_test=x_test\n",
    "meta_data_test.insert(21,'rft',sub_1)\n",
    "meta_data_test.insert(22,'ada',sub_3)\n",
    "meta_data_test.insert(23,'svr',sub_5)\n",
    "meta_data_test.insert(24,'bag',sub_6)\n",
    "meta_data_test=meta_data_test[meta_data.columns]\n",
    "meta_pred=meta_model.predict(meta_data_test)\n",
    "\n"
   ]
  },
  {
   "cell_type": "code",
   "execution_count": 65,
   "metadata": {},
   "outputs": [
    {
     "data": {
      "text/plain": [
       "16466"
      ]
     },
     "execution_count": 65,
     "metadata": {},
     "output_type": "execute_result"
    }
   ],
   "source": [
    "len(meta_pred)"
   ]
  },
  {
   "cell_type": "code",
   "execution_count": 14,
   "metadata": {},
   "outputs": [
    {
     "name": "stdout",
     "output_type": "stream",
     "text": [
      "('random forest:', 0.03316363093261265)\n"
     ]
    }
   ],
   "source": [
    "model1=RandomForestRegressor(n_estimators=100)\n",
    "model1.fit(x_data,y_data)\n",
    "rmse=sklearn.metrics.mean_squared_error\n",
    "print('random forest:',np.sqrt(rmse(y_data,model1.predict(x_data))))\n"
   ]
  },
  {
   "cell_type": "code",
   "execution_count": 16,
   "metadata": {},
   "outputs": [
    {
     "name": "stdout",
     "output_type": "stream",
     "text": [
      "('random forest:    ', 0.001099826416634543)\n"
     ]
    }
   ],
   "source": [
    "print('random forest:    ',rmse(y_data,model1.predict(x_data)))\n"
   ]
  },
  {
   "cell_type": "code",
   "execution_count": 8,
   "metadata": {},
   "outputs": [
    {
     "name": "stdout",
     "output_type": "stream",
     "text": [
      "('random forest:', 0.09728735012487937)\n",
      "('xgb', 0.11356744755495865)\n",
      "('adaboost', 0.17793326372289142)\n",
      "('GradientBoosting', 0.12755603053454412)\n",
      "('Bagging', 0.10087138902175086)\n"
     ]
    }
   ],
   "source": [
    "rmse=sklearn.metrics.mean_squared_error\n",
    "print('random forest:',np.sqrt(rmse(y_test,model1.predict(x_test))))\n",
    "print('xgb',np.sqrt(rmse(y_test,model2.predict(x_test))))\n",
    "print('adaboost',np.sqrt(rmse(y_test,model3.predict(x_test))))\n",
    "print('GradientBoosting',np.sqrt(rmse(y_test,model4.predict(x_test))))\n",
    "print('Bagging',np.sqrt(rmse(y_test,model5.predict(x_test))))\n"
   ]
  },
  {
   "cell_type": "code",
   "execution_count": 41,
   "metadata": {},
   "outputs": [
    {
     "name": "stdout",
     "output_type": "stream",
     "text": [
      "('random forest:    ', 0.009464828494320865)\n",
      "('xgb:              ', 0.012897565144148283)\n",
      "('adaboost:         ', 0.031660246339080024)\n",
      "('gradient boosting:', 0.016270540925729552)\n",
      "('bagging:          ', 0.010175037123177398)\n"
     ]
    }
   ],
   "source": [
    "print('random forest:    ',rmse(y_test,model1.predict(x_test)))\n",
    "print('xgb:              ',rmse(y_test,model2.predict(x_test)))\n",
    "print('adaboost:         ',rmse(y_test,model3.predict(x_test)))\n",
    "print('gradient boosting:',rmse(y_test,model4.predict(x_test)))\n",
    "print('bagging:          ',rmse(y_test,model5.predict(x_test)))\n"
   ]
  },
  {
   "cell_type": "code",
   "execution_count": null,
   "metadata": {},
   "outputs": [],
   "source": [
    "data_x"
   ]
  },
  {
   "cell_type": "code",
   "execution_count": 26,
   "metadata": {},
   "outputs": [],
   "source": [
    "ml=pd.DataFrame()\n",
    "ml.insert(0,\"Square_ID\",data['Square_ID'])\n",
    "ml.insert(1,\"target_2019\",model1.predict(x_data))\n",
    "ml.to_csv(r\"/home/sagar/Downloads/sub.csv\")"
   ]
  }
 ],
 "metadata": {
  "kernelspec": {
   "display_name": "Python 2",
   "language": "python",
   "name": "python2"
  },
  "language_info": {
   "codemirror_mode": {
    "name": "ipython",
    "version": 2
   },
   "file_extension": ".py",
   "mimetype": "text/x-python",
   "name": "python",
   "nbconvert_exporter": "python",
   "pygments_lexer": "ipython2",
   "version": "2.7.17"
  }
 },
 "nbformat": 4,
 "nbformat_minor": 2
}
