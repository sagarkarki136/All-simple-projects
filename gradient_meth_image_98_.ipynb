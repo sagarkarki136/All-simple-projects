{
  "nbformat": 4,
  "nbformat_minor": 0,
  "metadata": {
    "colab": {
      "name": "gradient_meth_image_98%.ipynb",
      "provenance": [],
      "collapsed_sections": []
    },
    "kernelspec": {
      "name": "python3",
      "display_name": "Python 3"
    }
  },
  "cells": [
    {
      "cell_type": "code",
      "metadata": {
        "id": "SSR4pBM4qDNb",
        "colab_type": "code",
        "colab": {}
      },
      "source": [
        "from __future__ import absolute_import,division,print_function,unicode_literals\n",
        "try:\n",
        "  %tensorflow_version 2.x\n",
        "except Exception:\n",
        "  pass\n",
        "import tensorflow as tf"
      ],
      "execution_count": 0,
      "outputs": []
    },
    {
      "cell_type": "code",
      "metadata": {
        "id": "Djojx5Hnqr1C",
        "colab_type": "code",
        "colab": {}
      },
      "source": [
        "from tensorflow.keras.layers import Dense,Conv2D,Flatten\n",
        "from tensorflow.keras import Model"
      ],
      "execution_count": 0,
      "outputs": []
    },
    {
      "cell_type": "code",
      "metadata": {
        "id": "mKQeoW6vrWzQ",
        "colab_type": "code",
        "colab": {}
      },
      "source": [
        "mnist=tf.keras.datasets.mnist\n",
        "(x_train,y_train),(x_test,y_test)=mnist.load_data()\n",
        "x_train , x_test=x_train/255.0 , x_test/255.0\n",
        "\n",
        "\n",
        "x_train=x_train[...,tf.newaxis]\n",
        "x_test=x_test[...,tf.newaxis]\n"
      ],
      "execution_count": 0,
      "outputs": []
    },
    {
      "cell_type": "code",
      "metadata": {
        "id": "7ObKylpmsZFT",
        "colab_type": "code",
        "colab": {}
      },
      "source": [
        "train_ds=tf.data.Dataset.from_tensor_slices((x_train,y_train)).shuffle(10000).batch(32)\n",
        "test_ds= tf.data.Dataset.from_tensor_slices((x_test,y_test)).batch(32)"
      ],
      "execution_count": 0,
      "outputs": []
    },
    {
      "cell_type": "code",
      "metadata": {
        "id": "D4cSvKI5td9A",
        "colab_type": "code",
        "colab": {}
      },
      "source": [
        "class MyModel(Model):\n",
        "  def __init__(self):\n",
        "    super(MyModel, self).__init__()\n",
        "    self.conv1 = Conv2D(32, 3, activation='relu')\n",
        "    self.flatten = Flatten()\n",
        "    self.d1 = Dense(128, activation='relu')\n",
        "    self.d2 = Dense(10, activation='softmax')\n",
        "\n",
        "  def call(self, x):\n",
        "    x = self.conv1(x)\n",
        "    x = self.flatten(x)\n",
        "    x = self.d1(x)\n",
        "    return self.d2(x)\n",
        "\n",
        "# Create an instance of the model\n",
        "model = MyModel()"
      ],
      "execution_count": 0,
      "outputs": []
    },
    {
      "cell_type": "code",
      "metadata": {
        "id": "HpvGm-oBu_6Y",
        "colab_type": "code",
        "colab": {}
      },
      "source": [
        "loss_object=tf.keras.losses.SparseCategoricalCrossentropy()\n",
        "optimizer=tf.keras.optimizers.Adam()"
      ],
      "execution_count": 0,
      "outputs": []
    },
    {
      "cell_type": "code",
      "metadata": {
        "id": "R5oEQZ7lvVK_",
        "colab_type": "code",
        "colab": {}
      },
      "source": [
        "train_loss=tf.keras.metrics.Mean(name='train_loss')\n",
        "train_accuracy=tf.keras.metrics.SparseCategoricalAccuracy(name='train_accuracy')\n",
        "\n",
        "test_loss=tf.keras.metrics.Mean(name='test_loss')\n",
        "test_accuracy=tf.keras.metrics.SparseCategoricalAccuracy(name='test_accuracy')"
      ],
      "execution_count": 0,
      "outputs": []
    },
    {
      "cell_type": "code",
      "metadata": {
        "id": "YGYXTA86wV_Q",
        "colab_type": "code",
        "colab": {}
      },
      "source": [
        "@tf.function\n",
        "def train_step(images, labels):\n",
        "  with tf.GradientTape() as tape:\n",
        "    predictions = model(images)\n",
        "    loss = loss_object(labels, predictions)\n",
        "  gradients = tape.gradient(loss, model.trainable_variables)\n",
        "  optimizer.apply_gradients(zip(gradients, model.trainable_variables))\n",
        "\n",
        "  train_loss(loss)\n",
        "  train_accuracy(labels, predictions)"
      ],
      "execution_count": 0,
      "outputs": []
    },
    {
      "cell_type": "code",
      "metadata": {
        "id": "ev5MF4PPysEO",
        "colab_type": "code",
        "colab": {}
      },
      "source": [
        "@tf.function\n",
        "def test_step(image,labels):\n",
        "  predictions=model(image)\n",
        "  t_loss=loss_object(labels,predictions)\n",
        "\n",
        "  test_loss(t_loss)\n",
        "  test_accuracy(labels,predictions)"
      ],
      "execution_count": 0,
      "outputs": []
    },
    {
      "cell_type": "code",
      "metadata": {
        "id": "zzLjtY-3zLN6",
        "colab_type": "code",
        "outputId": "f3d10534-1981-4dad-f444-8b7478f18508",
        "colab": {
          "base_uri": "https://localhost:8080/",
          "height": 102
        }
      },
      "source": [
        "EPOCHS = 5\n",
        "\n",
        "for epoch in range(EPOCHS):\n",
        "  for images, labels in train_ds:\n",
        "    train_step(images, labels)\n",
        "\n",
        "  for test_images, test_labels in test_ds:\n",
        "    test_step(test_images, test_labels)\n",
        "\n",
        "  template = 'Epoch {}, Loss: {}, Accuracy: {}, Test Loss: {}, Test Accuracy: {}'\n",
        "  print(template.format(epoch+1,\n",
        "                        train_loss.result(),\n",
        "                        train_accuracy.result()*100,\n",
        "                        test_loss.result(),\n",
        "                        test_accuracy.result()*100))\n",
        "\n",
        "  # Reset the metrics for the next epoch\n",
        "  train_loss.reset_states()\n",
        "  train_accuracy.reset_states()\n",
        "  test_loss.reset_states()\n",
        "  test_accuracy.reset_states()\n",
        "\n",
        "\n",
        "\n",
        " "
      ],
      "execution_count": 0,
      "outputs": [
        {
          "output_type": "stream",
          "text": [
            "Epoch 1, Loss: 0.11908502876758575, Accuracy: 96.43859100341797, Test Loss: 0.05384168401360512, Test Accuracy: 98.25999450683594\n",
            "Epoch 2, Loss: 0.03660295158624649, Accuracy: 98.85832977294922, Test Loss: 0.051945384591817856, Test Accuracy: 98.36000061035156\n",
            "Epoch 3, Loss: 0.01864124834537506, Accuracy: 99.39167022705078, Test Loss: 0.06484683603048325, Test Accuracy: 98.00999450683594\n",
            "Epoch 4, Loss: 0.012575095519423485, Accuracy: 99.57333374023438, Test Loss: 0.07017344981431961, Test Accuracy: 98.05999755859375\n",
            "Epoch 5, Loss: 0.009402050636708736, Accuracy: 99.68333435058594, Test Loss: 0.07736282050609589, Test Accuracy: 98.2699966430664\n"
          ],
          "name": "stdout"
        }
      ]
    }
  ]
}